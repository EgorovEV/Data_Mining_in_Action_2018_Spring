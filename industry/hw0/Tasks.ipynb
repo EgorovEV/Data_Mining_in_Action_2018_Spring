{
 "cells": [
  {
   "cell_type": "markdown",
   "metadata": {},
   "source": [
    "### Задача 1\n",
    "\n",
    "Что выведет этот код?\n",
    "\n",
    "Ответом на эту задачу является выведенное число, округлённое до 4го знака, дробная часть отделяется **точкой**."
   ]
  },
  {
   "cell_type": "code",
   "execution_count": 7,
   "metadata": {},
   "outputs": [
    {
     "name": "stdout",
     "output_type": "stream",
     "text": [
      "0.9648473034437947\n"
     ]
    }
   ],
   "source": [
    "from sklearn.datasets import load_breast_cancer\n",
    "from sklearn.ensemble import RandomForestClassifier\n",
    "from sklearn.model_selection import cross_val_score\n",
    "\n",
    "X_data, y_data = load_breast_cancer(return_X_y=True)\n",
    "\n",
    "print(cross_val_score(RandomForestClassifier(criterion='entropy', n_estimators=42, random_state=42), X_data, y_data, cv=3).mean())"
   ]
  },
  {
   "cell_type": "markdown",
   "metadata": {},
   "source": [
    "### Задача 2"
   ]
  },
  {
   "cell_type": "markdown",
   "metadata": {},
   "source": [
    "Напишите свою функцию определения качества модели по следующей метрике: максимальный precision, при условии, что precision < 1.5 * recall и recall > 0.5 и определите наилучшее её значение, перебирая гиперпараметры по предложенной сетке"
   ]
  },
  {
   "cell_type": "markdown",
   "metadata": {},
   "source": [
    "Ответом на эту задачу является максимальное значение качества по предложенной метрике, округлённое до 4го знака, дробная часть отделяется **точкой**."
   ]
  },
  {
   "cell_type": "code",
   "execution_count": 24,
   "metadata": {},
   "outputs": [
    {
     "name": "stdout",
     "output_type": "stream",
     "text": [
      "Accuracy best params and score\n"
     ]
    },
    {
     "name": "stdout",
     "output_type": "stream",
     "text": [
      "\tParams: {'criterion': 'entropy', 'max_depth': None, 'n_estimators': 50}\n\tScore: 0.9648506151142355\nCustom loss best params and score\n"
     ]
    },
    {
     "name": "stdout",
     "output_type": "stream",
     "text": [
      "\tParams: {'criterion': 'gini', 'max_depth': 5, 'n_estimators': 50}\n\tScore: 0.9942015090366172\n"
     ]
    }
   ],
   "source": [
    "from sklearn.model_selection import GridSearchCV\n",
    "from sklearn.metrics import make_scorer, precision_recall_curve\n",
    "from sklearn.ensemble import RandomForestClassifier\n",
    "from sklearn.datasets import load_breast_cancer\n",
    "import numpy as np\n",
    "\n",
    "\n",
    "#def my_custom_loss_func(ground_truth, predictions):\n",
    "#    diff = np.abs(ground_truth - predictions).max()\n",
    "#    return np.log(1 + diff)\n",
    "\n",
    "def my_custom_loss_func(ground_truth, predictions):\n",
    "    precision, recall, _ = precision_recall_curve(ground_truth, predictions)\n",
    "    return max(pr for pr, rc in zip(precision, recall) if pr < 1.5 * rc and rc > 0.5)\n",
    "    \n",
    "\n",
    "\n",
    "\n",
    "param_grid = {\n",
    "    'n_estimators': [10, 20, 30, 40, 50],\n",
    "    'max_depth': [None, 5, 10, 15, 20],\n",
    "    'criterion': ['entropy', 'gini']\n",
    "}\n",
    "\n",
    "X_data, y_data = load_breast_cancer(return_X_y=True)\n",
    "\n",
    "estimator = RandomForestClassifier(random_state=42)\n",
    "\n",
    "print('Accuracy best params and score')\n",
    "result = GridSearchCV(estimator, param_grid, cv=3, scoring='accuracy').fit(X_data, y_data)\n",
    "print('\\tParams:', result.best_params_)\n",
    "print('\\tScore:', result.best_score_)\n",
    "\n",
    "\n",
    "#scorer = # TODO\n",
    "scorer = make_scorer(my_custom_loss_func, needs_threshold=True)\n",
    "\n",
    "print('Custom loss best params and score')\n",
    "result = GridSearchCV(estimator, param_grid, cv=3, scoring=scorer).fit(X_data, y_data)\n",
    "print('\\tParams:', result.best_params_)\n",
    "print('\\tScore:', result.best_score_)"
   ]
  },
  {
   "cell_type": "markdown",
   "metadata": {},
   "source": [
    "### Задача 3"
   ]
  },
  {
   "cell_type": "markdown",
   "metadata": {},
   "source": [
    "Какова минимальная сторона квадрата, содержащего все точки из $X$? \n",
    "\n",
    "Ответом на эту задачу является число, округлённое до 2го знака, дробная часть отделяется точкой."
   ]
  },
  {
   "cell_type": "code",
   "execution_count": 10,
   "metadata": {},
   "outputs": [
    {
     "name": "stdout",
     "output_type": "stream",
     "text": [
      "29.57\n"
     ]
    }
   ],
   "source": [
    "from sklearn.datasets import load_breast_cancer\n",
    "import numpy as np\n",
    "data = load_breast_cancer()\n",
    "X = data.data[:, :2]\n",
    "dotes = np.array(X)\n",
    "less = np.min(dotes, 0)    #минимальный x y\n",
    "high = np.max(dotes, 0)    #максимальный x, y\n",
    "print(\"%.2f\" % np.max(high - less))\n"
   ]
  },
  {
   "cell_type": "markdown",
   "metadata": {},
   "source": [
    "Задача 1:\n",
    "Какова вероятность выбросить 8 и больше орлов из 10 бросков монеты? Ответ округлите до 3 знака\n",
    "Задача 2:\n",
    "Какова вероятность выбросить 53 и больше орлов из 100 бросков монеты? Ответ округлите до 3 знака"
   ]
  },
  {
   "cell_type": "code",
   "execution_count": 22,
   "metadata": {},
   "outputs": [
    {
     "name": "stdout",
     "output_type": "stream",
     "text": [
      "0.0546875\n"
     ]
    }
   ],
   "source": [
    "from scipy.special import binom\n",
    "\n",
    "Low_border = 53\n",
    "High_border = 100\n",
    "\n",
    "ans = 0\n",
    "for i in range (Low_border,High_border+1):\n",
    "    ans += binom(High_border, i)\n",
    "print(ans/(2**High_border))\n",
    "\n",
    "\n"
   ]
  },
  {
   "cell_type": "code",
   "execution_count": null,
   "metadata": {},
   "outputs": [],
   "source": []
  }
 ],
 "metadata": {
  "kernelspec": {
   "display_name": "Python 3",
   "language": "python",
   "name": "python3"
  },
  "language_info": {
   "codemirror_mode": {
    "name": "ipython",
    "version": 3
   },
   "file_extension": ".py",
   "mimetype": "text/x-python",
   "name": "python",
   "nbconvert_exporter": "python",
   "pygments_lexer": "ipython3",
   "version": "3.4.3"
  }
 },
 "nbformat": 4,
 "nbformat_minor": 2
}
